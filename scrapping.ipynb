{
 "cells": [
  {
   "cell_type": "code",
   "execution_count": 95,
   "id": "1697f73a-4040-4c66-bda6-033151a6d7a0",
   "metadata": {},
   "outputs": [
    {
     "name": "stdout",
     "output_type": "stream",
     "text": [
      "Requirement already satisfied: selenium in /usr/local/anaconda3/lib/python3.12/site-packages (4.27.1)\n",
      "Requirement already satisfied: urllib3<3,>=1.26 in /usr/local/anaconda3/lib/python3.12/site-packages (from urllib3[socks]<3,>=1.26->selenium) (2.2.3)\n",
      "Requirement already satisfied: trio~=0.17 in /usr/local/anaconda3/lib/python3.12/site-packages (from selenium) (0.27.0)\n",
      "Requirement already satisfied: trio-websocket~=0.9 in /usr/local/anaconda3/lib/python3.12/site-packages (from selenium) (0.11.1)\n",
      "Requirement already satisfied: certifi>=2021.10.8 in /usr/local/anaconda3/lib/python3.12/site-packages (from selenium) (2024.8.30)\n",
      "Requirement already satisfied: typing_extensions~=4.9 in /usr/local/anaconda3/lib/python3.12/site-packages (from selenium) (4.11.0)\n",
      "Requirement already satisfied: websocket-client~=1.8 in /usr/local/anaconda3/lib/python3.12/site-packages (from selenium) (1.8.0)\n",
      "Requirement already satisfied: attrs>=23.2.0 in /usr/local/anaconda3/lib/python3.12/site-packages (from trio~=0.17->selenium) (24.2.0)\n",
      "Requirement already satisfied: sortedcontainers in /usr/local/anaconda3/lib/python3.12/site-packages (from trio~=0.17->selenium) (2.4.0)\n",
      "Requirement already satisfied: idna in /usr/local/anaconda3/lib/python3.12/site-packages (from trio~=0.17->selenium) (3.7)\n",
      "Requirement already satisfied: outcome in /usr/local/anaconda3/lib/python3.12/site-packages (from trio~=0.17->selenium) (1.3.0.post0)\n",
      "Requirement already satisfied: sniffio>=1.3.0 in /usr/local/anaconda3/lib/python3.12/site-packages (from trio~=0.17->selenium) (1.3.0)\n",
      "Requirement already satisfied: wsproto>=0.14 in /usr/local/anaconda3/lib/python3.12/site-packages (from trio-websocket~=0.9->selenium) (1.2.0)\n",
      "Requirement already satisfied: pysocks!=1.5.7,<2.0,>=1.5.6 in /usr/local/anaconda3/lib/python3.12/site-packages (from urllib3[socks]<3,>=1.26->selenium) (1.7.1)\n",
      "Requirement already satisfied: h11<1,>=0.9.0 in /usr/local/anaconda3/lib/python3.12/site-packages (from wsproto>=0.14->trio-websocket~=0.9->selenium) (0.14.0)\n"
     ]
    }
   ],
   "source": [
    "!pip install selenium"
   ]
  },
  {
   "cell_type": "code",
   "execution_count": 96,
   "id": "4b6b7aae-b73e-4531-8ed4-a47a8ae05175",
   "metadata": {},
   "outputs": [],
   "source": [
    "from selenium import webdriver"
   ]
  },
  {
   "cell_type": "code",
   "execution_count": 97,
   "id": "b73f2485-606d-4eba-bdef-ff52f434d203",
   "metadata": {},
   "outputs": [],
   "source": [
    "fathi=webdriver.Chrome()"
   ]
  },
  {
   "cell_type": "code",
   "execution_count": 98,
   "id": "49d47f63-fa91-40aa-82c8-e8d0c3312525",
   "metadata": {},
   "outputs": [],
   "source": [
    "fathi.get(\"https://www.amazon.eg/s?k=samsung&rh=p_89%3Asamsung&language=en&ref=SQEG-WEB-SR301\")"
   ]
  },
  {
   "cell_type": "code",
   "execution_count": 99,
   "id": "12743795-a8f0-4d28-8c77-7915c84e3565",
   "metadata": {},
   "outputs": [],
   "source": [
    "# product=fathi.find_elements(\"xpath\",\"//h2[@class='a-size-base-plus a-spacing-none a-color-base a-text-normal']/span\")"
   ]
  },
  {
   "cell_type": "code",
   "execution_count": 100,
   "id": "76c68bc1",
   "metadata": {},
   "outputs": [],
   "source": [
    "# for i in product:\n",
    "#     print(i.text)"
   ]
  },
  {
   "cell_type": "code",
   "execution_count": 101,
   "id": "515e89d8",
   "metadata": {},
   "outputs": [],
   "source": [
    "name=fathi.find_elements(\"xpath\", '//div[@class=\"a-section a-spacing-none a-spacing-top-small s-title-instructions-style\"]')"
   ]
  },
  {
   "cell_type": "code",
   "execution_count": 102,
   "id": "a7bc31f1",
   "metadata": {},
   "outputs": [
    {
     "name": "stdout",
     "output_type": "stream",
     "text": [
      "SAMSUNG\n",
      "Galaxy A35 5G, Android Smartphone, Dual SIM Mobile Phone, 8GB RAM, 128GB Storage, Awesome Navy,1 Year Warranty/Local Version\n",
      "SAMSUNG\n",
      "Galaxy A15, Android Smartphone, Dual SIM Mobile Phone, 4GB RAM, 128GB Storage, Light Blue, 1 Year Warranty/Local Version\n",
      "SAMSUNG\n",
      "Galaxy A15, Android Smartphone, Dual SIM Mobile Phone, 8GB RAM, 256GB Storage, Blue Black, 1 Year Warranty/Local Version\n",
      "SAMSUNG\n",
      "Galaxy A15, Android Smartphone, Dual SIM Mobile Phone, 6GB RAM, 128GB Storage, Black Blue, 1 Year Warranty/Local Version\n",
      "SAMSUNG\n",
      "Galaxy A05s, Android Smartphone, Dual SIM Mobile Phone, 4GB RAM, 64GB Storage, Black- 1 Year Warranty/Local Version\n",
      "SAMSUNG\n",
      "WW70T4020CX1AS Digital Inverter Front Loading Washing Machine - 7Kg - Inox- (local warranty)\n",
      "SAMSUNG\n",
      "Galaxy A35 5G, Android Smartphone, Dual SIM Mobile Phone, 8GB RAM, 128GB Storage, Awesome Iceblue, 1 Year Warranty/Local Version\n",
      "SAMSUNG\n",
      "Galaxy A15, Android Smartphone, Dual SIM Mobile Phone, 6GB RAM, 128GB Storage, Light Blue, 1 Year Warranty/Local Version\n",
      "SAMSUNG\n",
      "Galaxy A05 LTE, Android Smartphone, Dual SIM Mobile Phone, 4GB RAM, 128GB Storage, Light Green- 1 Year Warranty/Local Version\n",
      "SAMSUNG\n",
      "Galaxy A16 LTE, Android Smartphone, Dual SIM Mobile Phone, 6GB RAM, 128GB Storage, Black (1 Year Local Warranty)\n",
      "SAMSUNG\n",
      "Galaxy Buds3 Pro, Wireless Bluetooth Earbuds with Adaptive: Noise Control, Hi-Fi Sound, 360 Audio-Silver - 1 Year Local Warranty\n",
      "SAMSUNG\n",
      "Galaxy A15, Android Smartphone, Dual SIM Mobile Phone, 8GB RAM, 256GB Storage, Light Blue, 1 Year Warranty/Local Version\n",
      "SAMSUNG\n",
      "Galaxy A55 5G, Android Smartphone, Dual SIM Mobile Phone, 8GB RAM, 256GB Storage, Awesome Navy -1 Year Warranty/Local Version\n",
      "SAMSUNG\n",
      "Galaxy A05 LTE, Android Smartphone, Dual SIM Mobile Phone, 4GB RAM, 64GB Storage,Silver- 1 Year Warranty/Local Version\n",
      "SAMSUNG\n",
      "Galaxy A55 5G, Android Smartphone, Dual SIM Mobile Phone, 8GB RAM, 128GB Storage, Awesome Navy -1 Year Warranty/Local Version\n",
      "SAMSUNG\n",
      "Galaxy Tab A9 LTE Android Tablet, 8GB RAM, 128GB Storage, Silver - 1 Year Warranty/Local Version\n",
      "SAMSUNG\n",
      "Canister Vacuum Cleaner Model VC20M2510WB/SG, 2000 WATT, 2.5 L 1 Year Brand Warranty, Multi Color- (local warranty)\n",
      "SAMSUNG\n",
      "Galaxy A05s, Android Smartphone, Dual SIM Mobile Phone, 4GB RAM, 64GB Storage, Silver- 1 Year Warranty/Local Version\n",
      "SAMSUNG\n",
      "Galaxy S24 Ultra, AI Phone, 256GB Storage, Titanium Gray, 12GB RAM, Android Smartphone, 200MP Camera, S Pen, Long Battery Life\n",
      "SAMSUNG\n",
      "Galaxy A55 5G, Android Smartphone, Dual SIM Mobile Phone, 8GB RAM, 128GB Storage, Awesome Lilac -1 Year Warranty/Local Version\n",
      "SAMSUNG\n",
      "Galaxy Tab A9 LTE Android Tablet, 8GB RAM, 128GB Storage, Navy\n",
      "SAMSUNG\n",
      "Galaxy A16 LTE, Android Smartphone, Dual SIM Mobile Phone, 6GB RAM, 128GB Storage, Gray, 1 Year Warranty/Local Version\n",
      "SAMSUNG\n",
      "43 Inch TV Crystal Processor 4K LED - Titan Gray - UA43DU8000UXEG [2024 Model]\n",
      "SAMSUNG\n",
      "32 Inch Full HD Smart LED TV with Built-in Receiver - Black - UA32T5300AUXEG\n",
      "SAMSUNG\n",
      "50 Inch 4K UHD Smart LED TV - Black - UA50DU7000UXEG [2024 Model]\n",
      "SAMSUNG\n",
      "Galaxy Tab A9 LTE Android Tablet, 8GB RAM, 128GB Storage, Graphite\n",
      "SAMSUNG\n",
      "65 Inch 4K UHD Smart LED TV - Black - UA65DU7000UXEG [2024 Model]\n",
      "SAMSUNG\n",
      "Galaxy A05 LTE, Android Smartphone, Dual SIM Mobile Phone, 4GB RAM, 128GB Storage, Black- 1 Year Warranty/Local Version\n",
      "SAMSUNG\n",
      "Galaxy Tab A9 LTE Android Tablet, 4GB RAM, 64GB Storage, Silver\n",
      "SAMSUNG\n",
      "Microwave oven 32 L, Tact & Dial, LED Display, Black (local warranty)\n",
      "SAMSUNG\n",
      "Galaxy A16 LTE, Android Smartphone, Dual SIM Mobile Phone, 4GB RAM, 128GB Storage, Gray (1 Year Local Warranty)\n",
      "SAMSUNG\n",
      "Microwave oven 32 L, Tact & Dial, LED Display, Black (local warranty)\n",
      "SAMSUNG\n",
      "50 Inch TV Crystal Processor 4K LED - Titan Gray - UA50DU8000UXEG [2024 Model]\n",
      "SAMSUNG\n",
      "Galaxy A06 Dual Sim 6GB RAM 128GB Storage Android Smartphone, 6.7-Inch Screen Size, Light Blue- 1 Year Warranty/Local Version\n",
      "SAMSUNG\n",
      "Top Load Washing Machine 19KG WA19CG6886BVAS Inverter Smart Black (local warranty)\n",
      "SAMSUNG\n",
      "Galaxy A06 Dual Sim 6GB RAM 128GB Storage Android Smartphone, 6.7-Inch Screen Size, Black and Samsung Galaxy Buds FE, Wireless, with Charging Case, ANC and Sound Customization, Graphite\n",
      "SAMSUNG\n",
      "Odyssey G50D, 27-Inch Fast IPS panel, 2K QHD (2560 x 1440), Refresh Rate 180Hz & Response Time 1ms(GTG) Gaming Computer Monitor, AMD FreeSync, G-Sync Compatible\n",
      "SAMSUNG\n",
      "WA11 Top Load Washing Machine, 11 kg Capacity, Grey\n",
      "SAMSUNG\n",
      "Galaxy A16 LTE, Android Smartphone, Dual SIM Mobile Phone, 8GB RAM, 256GB Storage, Light Green (1 Year Local Warranty)\n",
      "SAMSUNG\n",
      "Galaxy A06 6GB RAM 128GB Storage Android Smartphone, 6.7-Inch Screen Size, Black- Samsung High Quality USB-C Power Adaptive EU Wall Charger Fast Charging 25W - Black\n",
      "SAMSUNG\n",
      "Galaxy Tab A9 LTE Android Tablet, 4GB RAM, 64GB Storage, Navy\n",
      "SAMSUNG\n",
      "Galaxy Buds3, Silver, Wireless Bluetooth Earbuds with Adaptive EQ/ANC, Hi-Fi Sound, 360 Audio, 1 Year Local Warranty\n",
      "SAMSUNG\n",
      "Galaxy A16 LTE, Android Smartphone, Dual SIM Mobile Phone, 8GB RAM, 256GB Storage, Gray (1 Year Local Warranty)\n",
      "SAMSUNG\n",
      "RB34C632ES9/MR No Frost Refrigerator 341L - 12 Cubic Feet with Freezer in Bottom, with Dispenser, Refined Inox (local warranty)\n",
      "SAMSUNG\n",
      "Galaxy A06 Dual Sim 6GB RAM 128GB Storage Android Smartphone, 6.7-Inch Screen Size, Black- 1 Year Warranty/Local Version\n",
      "SAMSUNG\n",
      "Milanese Magnetic Loop Stainless Steel Smart Watch Band Bracelet Straps Replacement For Gear S3 22mm-Silver, Unisex\n",
      "SAMSUNG\n",
      "Galaxy A16 LTE, Android Smartphone, Dual SIM Mobile Phone, 8GB RAM, 256GB Storage, Black (1 Year Local Warranty)\n",
      "SAMSUNG\n",
      "Galaxy S24+, AI Phone, 256GB Storage, Cobalt Violet, 12GB RAM, Android Smartphone, 50MP Camera, Bigger Display, Faster RAM, Long Battery Life\n"
     ]
    }
   ],
   "source": [
    "for i in name:\n",
    "    print(i.text)"
   ]
  },
  {
   "cell_type": "code",
   "execution_count": 103,
   "id": "aab8585d",
   "metadata": {},
   "outputs": [],
   "source": [
    "prices=fathi.find_elements(\"xpath\",\"//span[@class='a-price-whole']\")"
   ]
  },
  {
   "cell_type": "code",
   "execution_count": 104,
   "id": "e73ede43-91d6-4cb0-ab83-7bc3646979ee",
   "metadata": {},
   "outputs": [
    {
     "name": "stdout",
     "output_type": "stream",
     "text": [
      "13,499\n",
      "6,550\n",
      "8,999\n",
      "7,249\n",
      "5,049\n",
      "14,999\n",
      "15,125\n",
      "7,864\n",
      "5,699\n",
      "8,013\n",
      "9,199\n",
      "9,390\n",
      "5,299\n",
      "17,910\n",
      "8,800\n",
      "5,999\n",
      "5,299\n",
      "19,799\n",
      "8,800\n",
      "8,070\n",
      "13,999\n",
      "7,999\n",
      "17,399\n",
      "8,800\n",
      "23,782\n",
      "5,999\n",
      "7,200\n",
      "8,570\n",
      "7,370\n",
      "8,699\n",
      "19,999\n",
      "6,644\n",
      "20,729\n",
      "8,888\n",
      "11,899\n",
      "13,390\n",
      "9,810\n",
      "7,119\n",
      "7,199\n",
      "6,275\n",
      "9,750\n",
      "24,799\n",
      "6,644\n",
      "150\n",
      "9,770\n",
      "43,650\n"
     ]
    }
   ],
   "source": [
    "for i in prices:\n",
    "    print(i.text)"
   ]
  },
  {
   "cell_type": "code",
   "execution_count": 105,
   "id": "2117ed3f-5210-4c42-ab66-7de83fb2aa76",
   "metadata": {},
   "outputs": [],
   "source": [
    "elemnt = fathi.find_elements(\"xpath\", '//div[@class=\"a-section aok-relative s-image-square-aspect\"]')"
   ]
  },
  {
   "cell_type": "code",
   "execution_count": 106,
   "id": "be0f7b5f",
   "metadata": {},
   "outputs": [
    {
     "name": "stdout",
     "output_type": "stream",
     "text": [
      "https://m.media-amazon.com/images/I/61Dz4UF90XL._AC_UL320_.jpg\n",
      "https://m.media-amazon.com/images/I/61cl1NEIrdL._AC_UL320_.jpg\n",
      "https://m.media-amazon.com/images/I/514nSB8S9pL._AC_UL320_.jpg\n",
      "https://m.media-amazon.com/images/I/61isHdQ+TDL._AC_UL320_.jpg\n",
      "https://m.media-amazon.com/images/I/61Ll0048EIL._AC_UL320_.jpg\n",
      "https://m.media-amazon.com/images/I/51+-GVWDNlL._AC_UL320_.jpg\n",
      "https://m.media-amazon.com/images/I/61Wp5qhgwzL._AC_UL320_.jpg\n",
      "https://m.media-amazon.com/images/I/61cl1NEIrdL._AC_UL320_.jpg\n",
      "https://m.media-amazon.com/images/I/71ve-OMxzyL._AC_UL320_.jpg\n",
      "https://m.media-amazon.com/images/I/61Lp1UcxeLL._AC_UL320_.jpg\n",
      "https://m.media-amazon.com/images/I/61JHEfCeJOL._AC_UL320_.jpg\n",
      "https://m.media-amazon.com/images/I/51Cida8RecL._AC_UL320_.jpg\n",
      "https://m.media-amazon.com/images/I/61ERH+yIyiL._AC_UL320_.jpg\n",
      "https://m.media-amazon.com/images/I/71-QzvIZnVL._AC_UL320_.jpg\n",
      "https://m.media-amazon.com/images/I/61ERH+yIyiL._AC_UL320_.jpg\n",
      "https://m.media-amazon.com/images/I/51-NZ55zHBL._AC_UL320_.jpg\n",
      "https://m.media-amazon.com/images/I/61YbjOXazxL._AC_UL320_.jpg\n",
      "https://m.media-amazon.com/images/I/61BDP4KDY3L._AC_UL320_.jpg\n",
      "https://m.media-amazon.com/images/I/71WkqFssobL._AC_UL320_.jpg\n",
      "https://m.media-amazon.com/images/I/71HHuzT9m2L._AC_UL320_.jpg\n",
      "https://m.media-amazon.com/images/I/51o87ZkAYLL._AC_UL320_.jpg\n",
      "https://m.media-amazon.com/images/I/61lzvL4tAqL._AC_UL320_.jpg\n",
      "https://m.media-amazon.com/images/I/61mSsqaxrHL._AC_UL320_.jpg\n",
      "https://m.media-amazon.com/images/I/71DA0YoM8eL._AC_UL320_.jpg\n",
      "https://m.media-amazon.com/images/I/61B7dn9ZUYL._AC_UL320_.jpg\n",
      "https://m.media-amazon.com/images/I/51OIq5aut4L._AC_UL320_.jpg\n",
      "https://m.media-amazon.com/images/I/61v86Il5XHL._AC_UL320_.jpg\n",
      "https://m.media-amazon.com/images/I/71dYQdmhwFL._AC_UL320_.jpg\n",
      "https://m.media-amazon.com/images/I/51Xf1gqI21L._AC_UL320_.jpg\n",
      "https://m.media-amazon.com/images/I/61lzhA0IVHL._AC_UL320_.jpg\n",
      "https://m.media-amazon.com/images/I/61lzvL4tAqL._AC_UL320_.jpg\n",
      "https://m.media-amazon.com/images/I/61Y69S7DNqL._AC_UL320_.jpg\n",
      "https://m.media-amazon.com/images/I/61mSsqaxrHL._AC_UL320_.jpg\n",
      "https://m.media-amazon.com/images/I/61asGlxdMOL._AC_UL320_.jpg\n",
      "https://m.media-amazon.com/images/I/516WD9nBeiL._AC_UL320_.jpg\n",
      "https://m.media-amazon.com/images/I/71uf2aP1PAL._AC_UL320_.jpg\n",
      "https://m.media-amazon.com/images/I/810Sytc27aL._AC_UL320_.jpg\n",
      "https://m.media-amazon.com/images/I/51R7eYhlqeL._AC_UL320_.jpg\n",
      "https://m.media-amazon.com/images/I/61cmlEY2jsL._AC_UL320_.jpg\n",
      "https://m.media-amazon.com/images/I/615VFuPo5LL._AC_UL320_.jpg\n",
      "https://m.media-amazon.com/images/I/51LoFBO2UlL._AC_UL320_.jpg\n",
      "https://m.media-amazon.com/images/I/61gBZoxml0L._AC_UL320_.jpg\n",
      "https://m.media-amazon.com/images/I/61lzvL4tAqL._AC_UL320_.jpg\n",
      "https://m.media-amazon.com/images/I/51yLOA-GSGL._AC_UL320_.jpg\n",
      "https://m.media-amazon.com/images/I/71OVNSFWVLL._AC_UL320_.jpg\n",
      "https://m.media-amazon.com/images/I/81GQV7Y0IeL._AC_UL320_.jpg\n",
      "https://m.media-amazon.com/images/I/61Lp1UcxeLL._AC_UL320_.jpg\n",
      "https://m.media-amazon.com/images/I/61B9dpnaBDL._AC_UL320_.jpg\n"
     ]
    }
   ],
   "source": [
    "for i in elemnt:\n",
    "    img = i.find_element(\"tag name\", \"img\")  \n",
    "    print(img.get_attribute(\"src\"))         \n"
   ]
  },
  {
   "cell_type": "code",
   "execution_count": 107,
   "id": "d16e2e70",
   "metadata": {},
   "outputs": [],
   "source": [
    "stars=fathi.find_elements(\"xpath\", '//span[@class=\"a-icon-alt\"]')"
   ]
  },
  {
   "cell_type": "code",
   "execution_count": 108,
   "id": "f517e75f",
   "metadata": {},
   "outputs": [
    {
     "name": "stdout",
     "output_type": "stream",
     "text": [
      "rating: 4.2\n",
      "rating: 4.0\n",
      "rating: 4.0\n",
      "rating: 4.0\n",
      "rating: 4.1\n",
      "rating: 4.2\n",
      "rating: 4.2\n",
      "rating: 4.0\n",
      "rating: 3.9\n",
      "rating: 5.0\n",
      "rating: 4.2\n",
      "rating: 4.0\n",
      "rating: 4.1\n",
      "rating: 3.9\n",
      "rating: 4.1\n",
      "rating: 4.2\n",
      "rating: 4.3\n",
      "rating: 4.1\n",
      "rating: 4.0\n",
      "rating: 4.1\n",
      "rating: 4.2\n",
      "rating: 5.0\n",
      "rating: 3.9\n",
      "rating: 4.1\n",
      "rating: 3.8\n",
      "rating: 4.2\n",
      "rating: 3.8\n",
      "rating: 3.9\n",
      "rating: 4.2\n",
      "rating: 3.7\n",
      "rating: 5.0\n",
      "rating: 3.2\n",
      "rating: 3.9\n",
      "rating: 4.0\n",
      "rating: 2.7\n",
      "rating: 3.9\n",
      "rating: 5.0\n",
      "rating: 4.2\n",
      "rating: 3.5\n",
      "rating: 5.0\n",
      "rating: 4.2\n",
      "rating: 4.0\n",
      "rating: 4.0\n",
      "rating: 5.0\n",
      "rating: 4.0\n",
      "Rating not found\n"
     ]
    }
   ],
   "source": [
    "import re\n",
    "for star in stars:\n",
    "    star_html = star.get_attribute(\"outerHTML\")\n",
    "    rating_match = re.search(r\"(\\d+\\.\\d+)\", star_html)\n",
    "    if rating_match:\n",
    "        rating = rating_match.group(1) \n",
    "        print(f\"rating: {rating}\")\n",
    "    else:\n",
    "        print(\"Rating not found\")"
   ]
  }
 ],
 "metadata": {
  "kernelspec": {
   "display_name": "base",
   "language": "python",
   "name": "python3"
  },
  "language_info": {
   "codemirror_mode": {
    "name": "ipython",
    "version": 3
   },
   "file_extension": ".py",
   "mimetype": "text/x-python",
   "name": "python",
   "nbconvert_exporter": "python",
   "pygments_lexer": "ipython3",
   "version": "3.12.7"
  }
 },
 "nbformat": 4,
 "nbformat_minor": 5
}
