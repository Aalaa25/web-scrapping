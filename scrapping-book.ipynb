{
 "cells": [
  {
   "cell_type": "code",
   "execution_count": 1,
   "id": "1697f73a-4040-4c66-bda6-033151a6d7a0",
   "metadata": {},
   "outputs": [
    {
     "name": "stdout",
     "output_type": "stream",
     "text": [
      "Requirement already satisfied: selenium in /usr/local/anaconda3/lib/python3.12/site-packages (4.27.1)\n",
      "Requirement already satisfied: urllib3<3,>=1.26 in /usr/local/anaconda3/lib/python3.12/site-packages (from urllib3[socks]<3,>=1.26->selenium) (2.2.3)\n",
      "Requirement already satisfied: trio~=0.17 in /usr/local/anaconda3/lib/python3.12/site-packages (from selenium) (0.27.0)\n",
      "Requirement already satisfied: trio-websocket~=0.9 in /usr/local/anaconda3/lib/python3.12/site-packages (from selenium) (0.11.1)\n",
      "Requirement already satisfied: certifi>=2021.10.8 in /usr/local/anaconda3/lib/python3.12/site-packages (from selenium) (2024.12.14)\n",
      "Requirement already satisfied: typing_extensions~=4.9 in /usr/local/anaconda3/lib/python3.12/site-packages (from selenium) (4.11.0)\n",
      "Requirement already satisfied: websocket-client~=1.8 in /usr/local/anaconda3/lib/python3.12/site-packages (from selenium) (1.8.0)\n",
      "Requirement already satisfied: attrs>=23.2.0 in /usr/local/anaconda3/lib/python3.12/site-packages (from trio~=0.17->selenium) (24.2.0)\n",
      "Requirement already satisfied: sortedcontainers in /usr/local/anaconda3/lib/python3.12/site-packages (from trio~=0.17->selenium) (2.4.0)\n",
      "Requirement already satisfied: idna in /usr/local/anaconda3/lib/python3.12/site-packages (from trio~=0.17->selenium) (3.7)\n",
      "Requirement already satisfied: outcome in /usr/local/anaconda3/lib/python3.12/site-packages (from trio~=0.17->selenium) (1.3.0.post0)\n",
      "Requirement already satisfied: sniffio>=1.3.0 in /usr/local/anaconda3/lib/python3.12/site-packages (from trio~=0.17->selenium) (1.3.0)\n",
      "Requirement already satisfied: wsproto>=0.14 in /usr/local/anaconda3/lib/python3.12/site-packages (from trio-websocket~=0.9->selenium) (1.2.0)\n",
      "Requirement already satisfied: pysocks!=1.5.7,<2.0,>=1.5.6 in /usr/local/anaconda3/lib/python3.12/site-packages (from urllib3[socks]<3,>=1.26->selenium) (1.7.1)\n",
      "Requirement already satisfied: h11<1,>=0.9.0 in /usr/local/anaconda3/lib/python3.12/site-packages (from wsproto>=0.14->trio-websocket~=0.9->selenium) (0.14.0)\n"
     ]
    }
   ],
   "source": [
    "!pip install selenium"
   ]
  },
  {
   "cell_type": "code",
   "execution_count": 2,
   "id": "4b6b7aae-b73e-4531-8ed4-a47a8ae05175",
   "metadata": {},
   "outputs": [],
   "source": [
    "from selenium import webdriver"
   ]
  },
  {
   "cell_type": "code",
   "execution_count": 3,
   "id": "b73f2485-606d-4eba-bdef-ff52f434d203",
   "metadata": {},
   "outputs": [],
   "source": [
    "fathi=webdriver.Chrome()"
   ]
  },
  {
   "cell_type": "markdown",
   "id": "90b40ee8",
   "metadata": {},
   "source": [
    "connecting to amazon page"
   ]
  },
  {
   "cell_type": "code",
   "execution_count": 4,
   "id": "49d47f63-fa91-40aa-82c8-e8d0c3312525",
   "metadata": {},
   "outputs": [],
   "source": [
    "fathi.get(\"https://www.amazon.in/gp/bestsellers/books/ref=zg_bs_pg_1_books?ie=UTF8&pg=1\")"
   ]
  },
  {
   "cell_type": "markdown",
   "id": "4be7f135",
   "metadata": {},
   "source": [
    "extracting name"
   ]
  },
  {
   "cell_type": "code",
   "execution_count": 5,
   "id": "12743795-a8f0-4d28-8c77-7915c84e3565",
   "metadata": {},
   "outputs": [],
   "source": [
    "book=fathi.find_elements(\"xpath\",'//a[@role=\"link\"]')"
   ]
  },
  {
   "cell_type": "code",
   "execution_count": 6,
   "id": "6648423e",
   "metadata": {},
   "outputs": [
    {
     "name": "stdout",
     "output_type": "stream",
     "text": [
      "['Too Good to Be True : A smart, funny will-they-won’t-they romance', 'The Psychology of Money', 'Oswaal CBSE 25 Combined Sample Question papers Class 10 Books Science, Mathematics Standard, Social Science, English Language and Literature, Hindi-A (For 2025 Exam)', 'Dopamine Detox : A Short Guide to Remove Distractions and Get Your Brain to Do Hard Things', 'My First Library: Boxset of 10 Board Books for Kids', 'Simple, Not Easy: A No-Nonsense Guide to Fitness, Nutrition and Weight Loss', 'Amma Diarylo Konni Pageelu', 'Atomic Habits', 'Animals Tales From Panchtantra: Timeless Stories for Children From Ancient India', 'White Nights', \"Don't Believe Everything You Think (English)\", 'Ikigai: Japanese secret to long and happy life', 'The Mountain Is You: Transforming Self-Sabotage Into Self-Mastery (English)', 'Educart CBSE Class 10 Most Likely Sets of Sample Papers - Science, Maths Standard, Social Science & English (with Answer Writing Sheets 2024-25)', 'Static G.K By Ankit Bhati And Naveen Sir In Hindi Latest 2025', 'World’s Greatest Books For Personal Growth & Wealth (Set of 4 Books) : Perfect Motivational Gift Set', 'My First Book of Patterns Pencil Control: Patterns Practice book for kids (Pattern Writing)', 'The Power of Your Subconscious Mind: Original Edition | Premium Paperback', 'PW NTA NEET Rankers Test Series 2025 Verified & Curated by Expert Faculties | 10 Full Syllabus + 4 Part Syllabus (Class 11 & 12) | OMR Sheet, Solution Booklet with NCERT References', 'Rich Dad Poor Dad: What the Rich Teach Their Kids About Money That the Poor and Middle Class Do Not!', 'Educart CBSE Class 10 Final Revision Book 2025 - Maths + Science + Social Science + English (2024-25)', 'Indian Polity for UPSC (English) by M Laxmikanth | 7th Edition (Latest) | Civil Services Exam- Prelims and Mains 2025 | State PSCs civil services exams/PCS exams', 'The Art of Being Alone: Loneliness Was My Cage, Solitude Is My Home (English)', 'Oswaal CBSE Sample Question Papers Class 10 Science Book (For 2025 Exam)', 'The Power of Your Subconscious Mind: Original Classic Edition | Premium Paperback', 'Moral Story Books for Kids (Illustrated) - English Short Stories with Colourful Pictures - Bedtime Children Story Book - 3 Years to 6 Years Old Children - Read Aloud to Infants, Toddlers (Set of 10 Books)', '1001 Ultimate Brain Booster Activities for 4+ Years Old Kids |Enhance the Child Mind with Cognitive Excellence with Interactive Activity Book', 'Bhagvad Gita As It Is English New Edition', 'My First Mythology Tale (Illustrated) (Set of 5 Books) - Mahabharata, Krishna, Hanuman, Ganesha, Ramayana - Story Books for Kids - English Short Stories - Read Aloud to Infants, Toddlers', 'Shrimad Bhagwat Geeta Yatharoop (Hindi)']\n"
     ]
    }
   ],
   "source": [
    "book_names = []\n",
    "book_prices = []\n",
    "for i in book:\n",
    "    item_text = i.text.strip()\n",
    "    if \"₹\" in item_text:\n",
    "        book_prices.append(item_text)\n",
    "    else:\n",
    "        book_names.append(item_text)\n",
    "print(book_names)"
   ]
  },
  {
   "cell_type": "code",
   "execution_count": 7,
   "id": "be67bfc5",
   "metadata": {},
   "outputs": [
    {
     "data": {
      "text/plain": [
       "['₹285.00',\n",
       " '₹305.00',\n",
       " '₹424.00',\n",
       " '₹190.00',\n",
       " '₹399.00',\n",
       " '₹325.00',\n",
       " '₹220.00',\n",
       " '₹579.00',\n",
       " '₹199.00',\n",
       " '₹124.00',\n",
       " '₹185.00',\n",
       " '₹380.00',\n",
       " '₹261.00',\n",
       " '₹494.00',\n",
       " '₹169.00',\n",
       " '₹349.00',\n",
       " '₹129.00',\n",
       " '₹149.00',\n",
       " '₹599.00',\n",
       " '₹393.00',\n",
       " '₹639.00',\n",
       " '₹759.00',\n",
       " '₹200.00',\n",
       " '₹309.00',\n",
       " '₹149.00',\n",
       " '₹228.00',\n",
       " '₹310.00',\n",
       " '₹285.00',\n",
       " '₹179.00',\n",
       " '₹258.00']"
      ]
     },
     "execution_count": 7,
     "metadata": {},
     "output_type": "execute_result"
    }
   ],
   "source": [
    "book_prices"
   ]
  },
  {
   "cell_type": "markdown",
   "id": "2cfd7473",
   "metadata": {},
   "source": [
    "extracting price"
   ]
  },
  {
   "cell_type": "code",
   "execution_count": 145,
   "id": "b2ef7832",
   "metadata": {},
   "outputs": [],
   "source": [
    "prices=fathi.find_elements(\"xpath\",'//span[@class=\"_cDEzb_p13n-sc-price_3mJ9Z\"]')"
   ]
  },
  {
   "cell_type": "code",
   "execution_count": 160,
   "id": "e73ede43-91d6-4cb0-ab83-7bc3646979ee",
   "metadata": {},
   "outputs": [
    {
     "name": "stdout",
     "output_type": "stream",
     "text": [
      "['313.00', '399.00', '460.00', '288.00', '199.00', '220.00', '322.00', '494.00', '199.00', '124.00', '192.00', '185.00', '317.00', '149.00', '349.00', '261.00', '149.00', '1,182.00', '888.00', '310.00', '499.00', '369.00', '129.00', '419.00', '1,445.00', '346.00', '305.00', '359.00', '234.00', '226.00']\n"
     ]
    }
   ],
   "source": [
    "priceList=[]\n",
    "for i in prices :\n",
    "    price = i.text.strip() \n",
    "    price = price.replace('₹', '').strip() \n",
    "    priceList.append(price)\n",
    "print(priceList)"
   ]
  },
  {
   "cell_type": "code",
   "execution_count": 161,
   "id": "89403f77",
   "metadata": {},
   "outputs": [],
   "source": [
    "import pandas as pd"
   ]
  },
  {
   "cell_type": "code",
   "execution_count": 162,
   "id": "df09fc9c",
   "metadata": {},
   "outputs": [],
   "source": [
    "mydatafram=pd.DataFrame({'Name':book_names,'Price':priceList})"
   ]
  },
  {
   "cell_type": "code",
   "execution_count": 163,
   "id": "47899518",
   "metadata": {},
   "outputs": [
    {
     "name": "stdout",
     "output_type": "stream",
     "text": [
      "<class 'pandas.core.frame.DataFrame'>\n",
      "RangeIndex: 30 entries, 0 to 29\n",
      "Data columns (total 2 columns):\n",
      " #   Column  Non-Null Count  Dtype \n",
      "---  ------  --------------  ----- \n",
      " 0   Name    30 non-null     object\n",
      " 1   Price   30 non-null     object\n",
      "dtypes: object(2)\n",
      "memory usage: 612.0+ bytes\n"
     ]
    }
   ],
   "source": [
    "mydatafram.info()"
   ]
  },
  {
   "cell_type": "code",
   "execution_count": 164,
   "id": "949b9375",
   "metadata": {},
   "outputs": [
    {
     "data": {
      "text/html": [
       "<div>\n",
       "<style scoped>\n",
       "    .dataframe tbody tr th:only-of-type {\n",
       "        vertical-align: middle;\n",
       "    }\n",
       "\n",
       "    .dataframe tbody tr th {\n",
       "        vertical-align: top;\n",
       "    }\n",
       "\n",
       "    .dataframe thead th {\n",
       "        text-align: right;\n",
       "    }\n",
       "</style>\n",
       "<table border=\"1\" class=\"dataframe\">\n",
       "  <thead>\n",
       "    <tr style=\"text-align: right;\">\n",
       "      <th></th>\n",
       "      <th>Name</th>\n",
       "      <th>Price</th>\n",
       "    </tr>\n",
       "  </thead>\n",
       "  <tbody>\n",
       "    <tr>\n",
       "      <th>0</th>\n",
       "      <td>The Psychology of Money</td>\n",
       "      <td>313.00</td>\n",
       "    </tr>\n",
       "    <tr>\n",
       "      <th>1</th>\n",
       "      <td>My First Library: Boxset of 10 Board Books for...</td>\n",
       "      <td>399.00</td>\n",
       "    </tr>\n",
       "    <tr>\n",
       "      <th>2</th>\n",
       "      <td>Atomic Habits</td>\n",
       "      <td>460.00</td>\n",
       "    </tr>\n",
       "    <tr>\n",
       "      <th>3</th>\n",
       "      <td>Too Good to Be True : A smart, funny will-they...</td>\n",
       "      <td>288.00</td>\n",
       "    </tr>\n",
       "    <tr>\n",
       "      <th>4</th>\n",
       "      <td>Dopamine Detox : A Short Guide to Remove Distr...</td>\n",
       "      <td>199.00</td>\n",
       "    </tr>\n",
       "  </tbody>\n",
       "</table>\n",
       "</div>"
      ],
      "text/plain": [
       "                                                Name   Price\n",
       "0                            The Psychology of Money  313.00\n",
       "1  My First Library: Boxset of 10 Board Books for...  399.00\n",
       "2                                      Atomic Habits  460.00\n",
       "3  Too Good to Be True : A smart, funny will-they...  288.00\n",
       "4  Dopamine Detox : A Short Guide to Remove Distr...  199.00"
      ]
     },
     "execution_count": 164,
     "metadata": {},
     "output_type": "execute_result"
    }
   ],
   "source": [
    "mydatafram.head()"
   ]
  },
  {
   "cell_type": "code",
   "execution_count": 168,
   "id": "5fc8d584",
   "metadata": {},
   "outputs": [],
   "source": [
    "mydatafram.to_csv(\"/Users/aalaaseif/Documents/ITI/DEP/scrap/book.csv\" , index=None)"
   ]
  },
  {
   "cell_type": "code",
   "execution_count": null,
   "id": "29af9bc8",
   "metadata": {},
   "outputs": [],
   "source": []
  }
 ],
 "metadata": {
  "kernelspec": {
   "display_name": "base",
   "language": "python",
   "name": "python3"
  },
  "language_info": {
   "codemirror_mode": {
    "name": "ipython",
    "version": 3
   },
   "file_extension": ".py",
   "mimetype": "text/x-python",
   "name": "python",
   "nbconvert_exporter": "python",
   "pygments_lexer": "ipython3",
   "version": "3.12.7"
  }
 },
 "nbformat": 4,
 "nbformat_minor": 5
}
