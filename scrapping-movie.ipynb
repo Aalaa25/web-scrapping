{
 "cells": [
  {
   "cell_type": "code",
   "execution_count": 1,
   "id": "1697f73a-4040-4c66-bda6-033151a6d7a0",
   "metadata": {},
   "outputs": [
    {
     "name": "stdout",
     "output_type": "stream",
     "text": [
      "Requirement already satisfied: selenium in /usr/local/anaconda3/lib/python3.12/site-packages (4.27.1)\n",
      "Requirement already satisfied: urllib3<3,>=1.26 in /usr/local/anaconda3/lib/python3.12/site-packages (from urllib3[socks]<3,>=1.26->selenium) (2.2.3)\n",
      "Requirement already satisfied: trio~=0.17 in /usr/local/anaconda3/lib/python3.12/site-packages (from selenium) (0.27.0)\n",
      "Requirement already satisfied: trio-websocket~=0.9 in /usr/local/anaconda3/lib/python3.12/site-packages (from selenium) (0.11.1)\n",
      "Requirement already satisfied: certifi>=2021.10.8 in /usr/local/anaconda3/lib/python3.12/site-packages (from selenium) (2024.12.14)\n",
      "Requirement already satisfied: typing_extensions~=4.9 in /usr/local/anaconda3/lib/python3.12/site-packages (from selenium) (4.11.0)\n",
      "Requirement already satisfied: websocket-client~=1.8 in /usr/local/anaconda3/lib/python3.12/site-packages (from selenium) (1.8.0)\n",
      "Requirement already satisfied: attrs>=23.2.0 in /usr/local/anaconda3/lib/python3.12/site-packages (from trio~=0.17->selenium) (24.2.0)\n",
      "Requirement already satisfied: sortedcontainers in /usr/local/anaconda3/lib/python3.12/site-packages (from trio~=0.17->selenium) (2.4.0)\n",
      "Requirement already satisfied: idna in /usr/local/anaconda3/lib/python3.12/site-packages (from trio~=0.17->selenium) (3.7)\n",
      "Requirement already satisfied: outcome in /usr/local/anaconda3/lib/python3.12/site-packages (from trio~=0.17->selenium) (1.3.0.post0)\n",
      "Requirement already satisfied: sniffio>=1.3.0 in /usr/local/anaconda3/lib/python3.12/site-packages (from trio~=0.17->selenium) (1.3.0)\n",
      "Requirement already satisfied: wsproto>=0.14 in /usr/local/anaconda3/lib/python3.12/site-packages (from trio-websocket~=0.9->selenium) (1.2.0)\n",
      "Requirement already satisfied: pysocks!=1.5.7,<2.0,>=1.5.6 in /usr/local/anaconda3/lib/python3.12/site-packages (from urllib3[socks]<3,>=1.26->selenium) (1.7.1)\n",
      "Requirement already satisfied: h11<1,>=0.9.0 in /usr/local/anaconda3/lib/python3.12/site-packages (from wsproto>=0.14->trio-websocket~=0.9->selenium) (0.14.0)\n"
     ]
    }
   ],
   "source": [
    "!pip install selenium"
   ]
  },
  {
   "cell_type": "code",
   "execution_count": 2,
   "id": "4b6b7aae-b73e-4531-8ed4-a47a8ae05175",
   "metadata": {},
   "outputs": [],
   "source": [
    "from selenium import webdriver"
   ]
  },
  {
   "cell_type": "code",
   "execution_count": 4,
   "id": "b73f2485-606d-4eba-bdef-ff52f434d203",
   "metadata": {},
   "outputs": [],
   "source": [
    "fathi=webdriver.Chrome()"
   ]
  },
  {
   "cell_type": "markdown",
   "id": "90b40ee8",
   "metadata": {},
   "source": [
    "connecting to movie page"
   ]
  },
  {
   "cell_type": "code",
   "execution_count": 5,
   "id": "49d47f63-fa91-40aa-82c8-e8d0c3312525",
   "metadata": {},
   "outputs": [],
   "source": [
    "fathi.get(\"https://www.boxofficemojo.com/chart/top_lifetime_gross/?area=XWW\")"
   ]
  },
  {
   "cell_type": "markdown",
   "id": "4be7f135",
   "metadata": {},
   "source": [
    "extracting movie"
   ]
  },
  {
   "cell_type": "code",
   "execution_count": 7,
   "id": "12743795-a8f0-4d28-8c77-7915c84e3565",
   "metadata": {},
   "outputs": [],
   "source": [
    "movie=fathi.find_elements(\"xpath\",'//td[@class=\"a-text-left mojo-field-type-title\"]/a')"
   ]
  },
  {
   "cell_type": "code",
   "execution_count": 14,
   "id": "3a49743f",
   "metadata": {},
   "outputs": [
    {
     "name": "stdout",
     "output_type": "stream",
     "text": [
      "['Avatar', 'Avengers: Endgame', 'Avatar: The Way of Water', 'Titanic', 'Star Wars: Episode VII - The Force Awakens', 'Avengers: Infinity War', 'Spider-Man: No Way Home', 'Inside Out 2', 'Jurassic World', 'The Lion King', 'The Avengers', 'Furious 7', 'Top Gun: Maverick', 'Frozen II', 'Barbie', 'Avengers: Age of Ultron', 'The Super Mario Bros. Movie', 'Black Panther', 'Harry Potter and the Deathly Hallows: Part 2', 'Deadpool & Wolverine', 'Star Wars: Episode VIII - The Last Jedi', 'Jurassic World: Fallen Kingdom', 'Frozen', 'Iron Man 3', 'Beauty and the Beast', 'Incredibles 2', 'The Fate of the Furious', 'Minions', 'Captain America: Civil War', 'Aquaman', 'The Lord of the Rings: The Return of the King', 'Spider-Man: Far from Home', 'Captain Marvel', 'Transformers: Dark of the Moon', 'The Dark Knight Rises', 'Skyfall', 'Transformers: Age of Extinction', 'Jurassic Park', 'Joker', 'Star Wars: Episode IX - The Rise of Skywalker', 'Toy Story 4', 'Toy Story 3', \"Pirates of the Caribbean: Dead Man's Chest\", 'Rogue One: A Star Wars Story', 'Aladdin', 'Pirates of the Caribbean: On Stranger Tides', 'Star Wars: Episode I - The Phantom Menace', 'Despicable Me 3', 'Finding Dory', \"Harry Potter and the Sorcerer's Stone\", 'Zootopia', 'Alice in Wonderland', 'The Hobbit: An Unexpected Journey', 'The Dark Knight', 'Jurassic World Dominion', 'The Lion King', 'Oppenheimer', 'Despicable Me 2', 'Despicable Me 4', 'The Jungle Book', 'Jumanji: Welcome to the Jungle', 'The Hobbit: The Battle of the Five Armies', \"Pirates of the Caribbean: At World's End\", 'Harry Potter and the Deathly Hallows: Part 1', 'The Hobbit: The Desolation of Smaug', 'Doctor Strange in the Multiverse of Madness', 'Harry Potter and the Order of the Phoenix', 'Finding Nemo', 'Harry Potter and the Half-Blood Prince', 'Minions: The Rise of Gru', 'The Lord of the Rings: The Two Towers', 'Shrek 2', 'Bohemian Rhapsody', 'The Battle at Lake Changjin', 'Harry Potter and the Goblet of Fire', 'Spider-Man 3', 'The Lord of the Rings: The Fellowship of the Ring', 'Ice Age: Dawn of the Dinosaurs', 'Harry Potter and the Chamber of Secrets', 'Spider-Man: Homecoming', 'Spectre', 'Ice Age: Continental Drift', 'The Secret Life of Pets', 'Batman v Superman: Dawn of Justice', 'Wolf Warrior 2', 'The Hunger Games: Catching Fire', 'Guardians of the Galaxy Vol. 2', 'Black Panther: Wakanda Forever', 'Inside Out', 'Venom', 'Thor: Ragnarok', 'Star Wars: Episode III - Revenge of the Sith', 'The Twilight Saga: Breaking Dawn - Part 2', 'Guardians of the Galaxy Vol. 3', 'Inception', 'Transformers: Revenge of the Fallen', 'Moana 2', 'Spider-Man', 'Wonder Woman', 'Hi, Mom', 'Independence Day', 'Fantastic Beasts and Where to Find Them', 'Coco', 'Harry Potter and the Prisoner of Azkaban', 'Shrek the Third', 'Jumanji: The Next Level', 'E.T. the Extra-Terrestrial', 'Pirates of the Caribbean: Dead Men Tell No Tales', 'Mission: Impossible - Fallout', '2012', 'Fast & Furious 6', 'Indiana Jones and the Kingdom of the Crystal Skull', 'Deadpool 2', 'Spider-Man 2', 'Deadpool', 'Star Wars: Episode IV - A New Hope', 'No Time to Die', 'Guardians of the Galaxy', 'The Batman', 'Thor: Love and Thunder', 'Fast & Furious Presents: Hobbs & Shaw', 'The Da Vinci Code', 'Maleficent', 'The Hunger Games: Mockingjay - Part 1', 'The Amazing Spider-Man', 'Shrek Forever After', 'Suicide Squad', \"Madagascar 3: Europe's Most Wanted\", 'X-Men: Days of Future Past', 'The Chronicles of Narnia: The Lion, the Witch and the Wardrobe', 'Monsters University', 'The Matrix Reloaded', 'Interstellar', 'Up', 'F9: The Fast Saga', 'Ne Zha', 'Gravity', 'The Amazing Spider-Man 2', 'Dune: Part Two', 'Captain America: The Winter Soldier', 'The Twilight Saga: Breaking Dawn - Part 1', 'The Twilight Saga: New Moon', 'Dawn of the Planet of the Apes', 'Transformers', 'Fast X', 'It', 'The Wandering Earth', 'The Twilight Saga: Eclipse', 'The Hunger Games', 'Mission: Impossible - Ghost Protocol', 'Spider-Man: Across the Spider-Verse', 'Detective Chinatown 3', 'Mission: Impossible - Rogue Nation', 'Forrest Gump', 'Doctor Strange', 'The Sixth Sense', 'Full River Red', 'Man of Steel', 'Ice Age: The Meltdown', 'Kung Fu Panda 2', 'The Hunger Games: Mockingjay - Part 2', 'Justice League', 'Big Hero 6', 'Fantastic Beasts: The Crimes of Grindelwald', 'Pirates of the Caribbean: The Curse of the Black Pearl', 'Men in Black³', 'Star Wars: Episode II - Attack of the Clones', 'Thor: The Dark World', 'Moana', 'Wonka', 'Sing', 'Kung Fu Panda', 'The Incredibles', 'The Martian', 'Hancock', 'Water Gate Bridge', 'Fast Five', 'Iron Man 2', 'Ratatouille', 'Ant-Man and the Wasp', 'How to Train Your Dragon 2', 'Logan', 'The Lost World: Jurassic Park', 'Casino Royale', 'The Wandering Earth II', 'The Passion of the Christ', 'Mamma Mia!', 'Life of Pi', 'Ready Player One', 'Transformers: The Last Knight', 'Madagascar: Escape 2 Africa', 'War of the Worlds', 'Wicked', 'Tangled', 'Quantum of Solace', 'Men in Black', 'The Croods', 'The Hangover Part II', 'Iron Man', 'I Am Legend']\n"
     ]
    }
   ],
   "source": [
    "movielist=[]\n",
    "for i in movie :\n",
    "    moviename=i.text\n",
    "    movielist.append(moviename)\n",
    "print(movielist)"
   ]
  },
  {
   "cell_type": "markdown",
   "id": "2cfd7473",
   "metadata": {},
   "source": [
    "extracting lifetime"
   ]
  },
  {
   "cell_type": "code",
   "execution_count": 9,
   "id": "b2ef7832",
   "metadata": {},
   "outputs": [],
   "source": [
    "lifetime=fathi.find_elements(\"xpath\",'//td[@class=\"a-text-right mojo-field-type-money\"]')"
   ]
  },
  {
   "cell_type": "code",
   "execution_count": 13,
   "id": "bce502c8",
   "metadata": {},
   "outputs": [
    {
     "name": "stdout",
     "output_type": "stream",
     "text": [
      "['2,923,706,026', '2,799,439,100', '2,320,250,281', '2,264,750,694', '2,071,310,218', '2,052,415,039', '1,952,723,719', '1,698,765,616', '1,671,537,444', '1,662,020,819', '1,520,538,536', '1,515,342,457', '1,495,696,292', '1,453,683,476', '1,446,938,421', '1,405,018,048', '1,360,847,665', '1,349,926,083', '1,342,499,744', '1,338,073,645', '1,334,407,706', '1,310,469,037', '1,306,450,154', '1,266,152,644', '1,266,115,964', '1,243,225,667', '1,236,009,236', '1,159,457,503', '1,155,046,416', '1,152,028,393', '1,138,267,537', '1,132,705,055', '1,131,416,446', '1,123,794,079', '1,114,975,066', '1,108,594,137', '1,105,261,713', '1,104,379,926', '1,078,958,629', '1,077,022,372', '1,073,841,394', '1,067,316,101', '1,066,179,747', '1,058,684,742', '1,054,304,000', '1,046,721,266', '1,046,515,409', '1,034,800,131', '1,029,266,989', '1,026,414,475', '1,025,521,689', '1,025,468,216', '1,017,107,150', '1,009,053,678', '1,001,978,080', '981,708,285', '975,594,978', '970,766,005', '969,126,452', '967,724,775', '962,544,585', '962,253,946', '961,691,209', '960,897,696', '959,079,095', '955,775,804', '942,862,581', '941,637,960', '941,055,851', '940,203,765', '938,242,927', '932,406,549', '910,813,521', '902,548,476', '897,468,952', '891,648,685', '888,195,122', '886,686,817', '882,546,027', '880,944,210', '880,707,597', '877,244,782', '875,698,161', '874,362,803', '870,325,439', '865,011,746', '863,756,903', '859,208,836', '859,076,254', '856,085,161', '855,301,806', '850,035,635', '848,593,948', '845,555,777', '839,030,630', '836,303,693', '826,805,425', '825,802,095', '823,970,682', '822,009,764', '817,400,891', '816,037,575', '814,641,172', '808,485,409', '808,308,862', '801,693,929', '797,307,407', '795,922,298', '791,658,205', '791,217,826', '788,683,342', '786,636,033', '785,896,632', '784,543,400', '782,837,347', '775,398,507', '774,153,007', '773,350,376', '772,319,315', '760,928,081', '760,732,926', '760,006,945', '759,853,685', '759,159,711', '758,707,722', '752,600,867', '749,200,054', '746,921,274', '746,045,700', '745,013,115', '743,559,645', '741,847,937', '740,726,550', '735,102,136', '726,229,501', '726,225,471', '723,719,539', '716,891,708', '714,444,358', '714,421,503', '712,205,856', '711,048,123', '710,644,566', '709,709,780', '704,875,015', '704,242,888', '699,992,512', '698,513,085', '695,220,619', '694,713,380', '690,824,738', '686,257,563', '682,716,636', '678,226,465', '677,796,833', '672,806,432', '670,491,959', '670,145,518', '667,094,506', '665,692,281', '661,456,867', '661,326,987', '657,870,525', '655,755,901', '654,264,546', '654,213,485', '653,780,724', '644,783,140', '643,332,467', '634,402,312', '634,338,409', '632,091,832', '631,688,498', '630,621,406', '629,443,428', '626,571,697', '626,140,012', '623,933,331', '623,729,380', '622,674,139', '621,537,519', '619,180,476', '618,638,999', '616,577,552', '615,023,132', '612,060,372', '611,452,132', '609,016,565', '607,874,422', '605,425,157', '603,900,354', '603,873,504', '593,191,535', '591,806,017', '589,593,688', '589,390,539', '587,266,745', '586,764,305', '585,796,247', '585,410,052']\n"
     ]
    }
   ],
   "source": [
    "lifetimelist=[]\n",
    "for i in lifetime :\n",
    "    price=i.text.strip()\n",
    "    price = price.replace('$', '').strip() \n",
    "    lifetimelist.append(price)\n",
    "print(lifetimelist)"
   ]
  },
  {
   "cell_type": "markdown",
   "id": "09a23ed5",
   "metadata": {},
   "source": [
    "extracting year"
   ]
  },
  {
   "cell_type": "code",
   "execution_count": 15,
   "id": "cc8844b8",
   "metadata": {},
   "outputs": [],
   "source": [
    "year=fathi.find_elements(\"xpath\",'//td[@class=\"a-text-left mojo-field-type-year\"]/a')"
   ]
  },
  {
   "cell_type": "code",
   "execution_count": 16,
   "id": "e259fcf5",
   "metadata": {},
   "outputs": [
    {
     "name": "stdout",
     "output_type": "stream",
     "text": [
      "['2009', '2019', '2022', '1997', '2015', '2018', '2021', '2024', '2015', '2019', '2012', '2015', '2022', '2019', '2023', '2015', '2023', '2018', '2011', '2024', '2017', '2018', '2013', '2013', '2017', '2018', '2017', '2015', '2016', '2018', '2003', '2019', '2019', '2011', '2012', '2012', '2014', '1993', '2019', '2019', '2019', '2010', '2006', '2016', '2019', '2011', '1999', '2017', '2016', '2001', '2016', '2010', '2012', '2008', '2022', '1994', '2023', '2013', '2024', '2016', '2017', '2014', '2007', '2010', '2013', '2022', '2007', '2003', '2009', '2022', '2002', '2004', '2018', '2021', '2005', '2007', '2001', '2009', '2002', '2017', '2015', '2012', '2016', '2016', '2017', '2013', '2017', '2022', '2015', '2018', '2017', '2005', '2012', '2023', '2010', '2009', '2024', '2002', '2017', '2021', '1996', '2016', '2017', '2004', '2007', '2019', '1982', '2017', '2018', '2009', '2013', '2008', '2018', '2004', '2016', '1977', '2021', '2014', '2022', '2022', '2019', '2006', '2014', '2014', '2012', '2010', '2016', '2012', '2014', '2005', '2013', '2003', '2014', '2009', '2021', '2019', '2013', '2014', '2024', '2014', '2011', '2009', '2014', '2007', '2023', '2017', '2019', '2010', '2012', '2011', '2023', '2021', '2015', '1994', '2016', '1999', '2023', '2013', '2006', '2011', '2015', '2017', '2014', '2018', '2003', '2012', '2002', '2013', '2016', '2023', '2016', '2008', '2004', '2015', '2008', '2022', '2011', '2010', '2007', '2018', '2014', '2017', '1997', '2006', '2023', '2004', '2008', '2012', '2018', '2017', '2008', '2005', '2024', '2010', '2008', '1997', '2013', '2011', '2008', '2007']\n"
     ]
    }
   ],
   "source": [
    "yearlist=[]\n",
    "for i in year :\n",
    "    yearname=i.text\n",
    "    yearlist.append(yearname)\n",
    "print(yearlist)"
   ]
  },
  {
   "cell_type": "code",
   "execution_count": 17,
   "id": "89403f77",
   "metadata": {},
   "outputs": [],
   "source": [
    "import pandas as pd"
   ]
  },
  {
   "cell_type": "code",
   "execution_count": 18,
   "id": "df09fc9c",
   "metadata": {},
   "outputs": [],
   "source": [
    "mydatafram=pd.DataFrame({'Movie':movielist,'Life Time':lifetimelist , 'Year':yearlist})"
   ]
  },
  {
   "cell_type": "code",
   "execution_count": 19,
   "id": "47899518",
   "metadata": {},
   "outputs": [
    {
     "name": "stdout",
     "output_type": "stream",
     "text": [
      "<class 'pandas.core.frame.DataFrame'>\n",
      "RangeIndex: 200 entries, 0 to 199\n",
      "Data columns (total 3 columns):\n",
      " #   Column     Non-Null Count  Dtype \n",
      "---  ------     --------------  ----- \n",
      " 0   Movie      200 non-null    object\n",
      " 1   Life Time  200 non-null    object\n",
      " 2   Year       200 non-null    object\n",
      "dtypes: object(3)\n",
      "memory usage: 4.8+ KB\n"
     ]
    }
   ],
   "source": [
    "mydatafram.info()"
   ]
  },
  {
   "cell_type": "code",
   "execution_count": 20,
   "id": "949b9375",
   "metadata": {},
   "outputs": [
    {
     "data": {
      "text/html": [
       "<div>\n",
       "<style scoped>\n",
       "    .dataframe tbody tr th:only-of-type {\n",
       "        vertical-align: middle;\n",
       "    }\n",
       "\n",
       "    .dataframe tbody tr th {\n",
       "        vertical-align: top;\n",
       "    }\n",
       "\n",
       "    .dataframe thead th {\n",
       "        text-align: right;\n",
       "    }\n",
       "</style>\n",
       "<table border=\"1\" class=\"dataframe\">\n",
       "  <thead>\n",
       "    <tr style=\"text-align: right;\">\n",
       "      <th></th>\n",
       "      <th>Movie</th>\n",
       "      <th>Life Time</th>\n",
       "      <th>Year</th>\n",
       "    </tr>\n",
       "  </thead>\n",
       "  <tbody>\n",
       "    <tr>\n",
       "      <th>0</th>\n",
       "      <td>Avatar</td>\n",
       "      <td>2,923,706,026</td>\n",
       "      <td>2009</td>\n",
       "    </tr>\n",
       "    <tr>\n",
       "      <th>1</th>\n",
       "      <td>Avengers: Endgame</td>\n",
       "      <td>2,799,439,100</td>\n",
       "      <td>2019</td>\n",
       "    </tr>\n",
       "    <tr>\n",
       "      <th>2</th>\n",
       "      <td>Avatar: The Way of Water</td>\n",
       "      <td>2,320,250,281</td>\n",
       "      <td>2022</td>\n",
       "    </tr>\n",
       "    <tr>\n",
       "      <th>3</th>\n",
       "      <td>Titanic</td>\n",
       "      <td>2,264,750,694</td>\n",
       "      <td>1997</td>\n",
       "    </tr>\n",
       "    <tr>\n",
       "      <th>4</th>\n",
       "      <td>Star Wars: Episode VII - The Force Awakens</td>\n",
       "      <td>2,071,310,218</td>\n",
       "      <td>2015</td>\n",
       "    </tr>\n",
       "  </tbody>\n",
       "</table>\n",
       "</div>"
      ],
      "text/plain": [
       "                                        Movie      Life Time  Year\n",
       "0                                      Avatar  2,923,706,026  2009\n",
       "1                           Avengers: Endgame  2,799,439,100  2019\n",
       "2                    Avatar: The Way of Water  2,320,250,281  2022\n",
       "3                                     Titanic  2,264,750,694  1997\n",
       "4  Star Wars: Episode VII - The Force Awakens  2,071,310,218  2015"
      ]
     },
     "execution_count": 20,
     "metadata": {},
     "output_type": "execute_result"
    }
   ],
   "source": [
    "mydatafram.head()"
   ]
  },
  {
   "cell_type": "code",
   "execution_count": 21,
   "id": "5fc8d584",
   "metadata": {},
   "outputs": [],
   "source": [
    "mydatafram.to_csv(\"/Users/aalaaseif/Documents/ITI/DEP/scrap/movie.csv\" , index=None)"
   ]
  }
 ],
 "metadata": {
  "kernelspec": {
   "display_name": "base",
   "language": "python",
   "name": "python3"
  },
  "language_info": {
   "codemirror_mode": {
    "name": "ipython",
    "version": 3
   },
   "file_extension": ".py",
   "mimetype": "text/x-python",
   "name": "python",
   "nbconvert_exporter": "python",
   "pygments_lexer": "ipython3",
   "version": "3.12.7"
  }
 },
 "nbformat": 4,
 "nbformat_minor": 5
}
